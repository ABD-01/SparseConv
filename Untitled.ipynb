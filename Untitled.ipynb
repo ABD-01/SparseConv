{
 "cells": [
  {
   "cell_type": "code",
   "execution_count": 1,
   "id": "0916af8f",
   "metadata": {},
   "outputs": [
    {
     "name": "stdout",
     "output_type": "stream",
     "text": [
      "Jupyter environment detected. Enabling Open3D WebVisualizer.\n",
      "[Open3D INFO] WebRTC GUI backend enabled.\n",
      "[Open3D INFO] WebRTCWindowSystem: HTTP handshake server disabled.\n"
     ]
    }
   ],
   "source": [
    "import open3d as o3d"
   ]
  },
  {
   "cell_type": "code",
   "execution_count": 2,
   "id": "e63ab241",
   "metadata": {},
   "outputs": [],
   "source": [
    "import numpy as np"
   ]
  },
  {
   "cell_type": "code",
   "execution_count": 3,
   "id": "74c498eb",
   "metadata": {},
   "outputs": [],
   "source": [
    "import torch"
   ]
  },
  {
   "cell_type": "code",
   "execution_count": 4,
   "id": "3ceaf4cf",
   "metadata": {},
   "outputs": [],
   "source": [
    "a = np.load(\"data.npy\")"
   ]
  },
  {
   "cell_type": "code",
   "execution_count": 5,
   "id": "4ab4dc42",
   "metadata": {},
   "outputs": [
    {
     "data": {
      "text/plain": [
       "(111620, 7)"
      ]
     },
     "execution_count": 5,
     "metadata": {},
     "output_type": "execute_result"
    }
   ],
   "source": [
    "a.shape"
   ]
  },
  {
   "cell_type": "code",
   "execution_count": 6,
   "id": "c4bd6a95",
   "metadata": {},
   "outputs": [
    {
     "data": {
      "text/plain": [
       "(111620, 3)"
      ]
     },
     "execution_count": 6,
     "metadata": {},
     "output_type": "execute_result"
    }
   ],
   "source": [
    "a[:, :3].shape"
   ]
  },
  {
   "cell_type": "code",
   "execution_count": 7,
   "id": "2a322fb2",
   "metadata": {},
   "outputs": [],
   "source": [
    "pcd = o3d.geometry.PointCloud()\n",
    "pcd.points = o3d.utility.Vector3dVector(a[:, :3])\n",
    "pcd.colors = o3d.utility.Vector3dVector(a[:,3:6]/255)\n",
    "\n",
    "# o3d.io.write_point_cloud(\"../../TestData/sync.ply\", pcd)"
   ]
  },
  {
   "cell_type": "code",
   "execution_count": 112,
   "id": "6cf081da",
   "metadata": {},
   "outputs": [],
   "source": [
    "labels = a[:, 6:]"
   ]
  },
  {
   "cell_type": "code",
   "execution_count": 119,
   "id": "501ae1f9",
   "metadata": {},
   "outputs": [
    {
     "data": {
      "text/plain": [
       "torch.Size([111620, 1])"
      ]
     },
     "execution_count": 119,
     "metadata": {},
     "output_type": "execute_result"
    }
   ],
   "source": [
    "labels = torch.from_numpy(labels)\n",
    "labels.shape"
   ]
  },
  {
   "cell_type": "code",
   "execution_count": 57,
   "id": "f4214427",
   "metadata": {},
   "outputs": [],
   "source": [
    "o3d.visualization.draw_geometries([pcd])\n"
   ]
  },
  {
   "cell_type": "code",
   "execution_count": 47,
   "id": "db18d713",
   "metadata": {},
   "outputs": [
    {
     "data": {
      "text/plain": [
       "(111620, 3)"
      ]
     },
     "execution_count": 47,
     "metadata": {},
     "output_type": "execute_result"
    }
   ],
   "source": [
    "np.asarray(pcd.points).shape"
   ]
  },
  {
   "cell_type": "code",
   "execution_count": 17,
   "id": "8da494f4",
   "metadata": {},
   "outputs": [],
   "source": [
    "downpcd = pcd.voxel_down_sample(0.02)"
   ]
  },
  {
   "cell_type": "code",
   "execution_count": 18,
   "id": "bdd035b3",
   "metadata": {},
   "outputs": [],
   "source": [
    "downpoints = np.asarray(downpcd.points)"
   ]
  },
  {
   "cell_type": "code",
   "execution_count": 19,
   "id": "e92d2ad0",
   "metadata": {},
   "outputs": [],
   "source": [
    "o3d.visualization.draw_geometries([downpcd])\n"
   ]
  },
  {
   "cell_type": "code",
   "execution_count": 20,
   "id": "75d451a6",
   "metadata": {},
   "outputs": [
    {
     "data": {
      "text/plain": [
       "open3d.cuda.pybind.geometry.PointCloud"
      ]
     },
     "execution_count": 20,
     "metadata": {},
     "output_type": "execute_result"
    }
   ],
   "source": [
    "type(downpcd)"
   ]
  },
  {
   "cell_type": "code",
   "execution_count": null,
   "id": "a11a075f",
   "metadata": {},
   "outputs": [],
   "source": []
  },
  {
   "cell_type": "code",
   "execution_count": 10,
   "id": "820cbdfe",
   "metadata": {},
   "outputs": [],
   "source": []
  },
  {
   "cell_type": "code",
   "execution_count": 32,
   "id": "c6f84640",
   "metadata": {},
   "outputs": [],
   "source": [
    "#downsampled voxel features and coordinates\n",
    "coords = np.asarray(downpcd.points)\n",
    "features = np.asarray(downpcd.colors)"
   ]
  },
  {
   "cell_type": "code",
   "execution_count": 159,
   "id": "04d7b235",
   "metadata": {},
   "outputs": [],
   "source": [
    "coords = a[:, :3]\n",
    "features = a[:,3:6]/255\n",
    "labels = a[:, 6:]"
   ]
  },
  {
   "cell_type": "code",
   "execution_count": 160,
   "id": "30bffb46",
   "metadata": {},
   "outputs": [
    {
     "data": {
      "text/plain": [
       "((111620, 3), (111620, 3), (111620, 1))"
      ]
     },
     "execution_count": 160,
     "metadata": {},
     "output_type": "execute_result"
    }
   ],
   "source": [
    "coords.shape, features.shape, labels.shape"
   ]
  },
  {
   "cell_type": "code",
   "execution_count": 161,
   "id": "9b642295",
   "metadata": {},
   "outputs": [],
   "source": [
    "coords = torch.from_numpy(coords.astype(np.float32))\n",
    "features = torch.from_numpy(features.astype(np.float32))\n",
    "labels = torch.from_numpy(labels.astype(np.float64))"
   ]
  },
  {
   "cell_type": "code",
   "execution_count": 27,
   "id": "03165572",
   "metadata": {},
   "outputs": [],
   "source": [
    "import numpy as np\n",
    "import torch\n",
    "from open3d.ml.torch.layers import SparseConv\n",
    "\n",
    "sparse_conv = SparseConv(in_channels=3,\n",
    "                         filters=8,\n",
    "                         kernel_size=[3, 3, 3],\n",
    "                         activation = nn.ReLU(),\n",
    "                         use_bias=False,\n",
    "                         normalize=False)\n",
    "\n",
    "\n",
    "\n"
   ]
  },
  {
   "cell_type": "code",
   "execution_count": 28,
   "id": "7dfc45af",
   "metadata": {},
   "outputs": [
    {
     "data": {
      "text/plain": [
       "torch.Size([3, 3, 3, 3, 8])"
      ]
     },
     "execution_count": 28,
     "metadata": {},
     "output_type": "execute_result"
    }
   ],
   "source": [
    "next(next(sparse_conv.modules()).parameters()).shape"
   ]
  },
  {
   "cell_type": "code",
   "execution_count": 29,
   "id": "0ffdf6a0",
   "metadata": {},
   "outputs": [
    {
     "name": "stdout",
     "output_type": "stream",
     "text": [
      "tensor([[0.0012, 0.0141, 0.0000,  ..., 0.0663, 0.0057, 0.0069],\n",
      "        [0.0158, 0.0000, 0.0331,  ..., 0.0294, 0.0250, 0.0381],\n",
      "        [0.0198, 0.0000, 0.0353,  ..., 0.0240, 0.0000, 0.0079],\n",
      "        ...,\n",
      "        [0.0159, 0.0000, 0.0368,  ..., 0.0345, 0.0275, 0.0460],\n",
      "        [0.0156, 0.0000, 0.0347,  ..., 0.0323, 0.0260, 0.0423],\n",
      "        [0.0157, 0.0000, 0.0353,  ..., 0.0326, 0.0265, 0.0431]])\n"
     ]
    }
   ],
   "source": [
    "with torch.no_grad():\n",
    "    out = sparse_conv(features, coords, coords, voxel_size=0.02)\n",
    "    print(out)"
   ]
  },
  {
   "cell_type": "code",
   "execution_count": 30,
   "id": "414b7c06",
   "metadata": {},
   "outputs": [
    {
     "data": {
      "text/plain": [
       "torch.Size([110337, 8])"
      ]
     },
     "execution_count": 30,
     "metadata": {},
     "output_type": "execute_result"
    }
   ],
   "source": [
    "out.shape"
   ]
  },
  {
   "cell_type": "code",
   "execution_count": 144,
   "id": "9285950c",
   "metadata": {},
   "outputs": [],
   "source": [
    "def calculate_grid(in_positions):\n",
    "    filter = torch.Tensor([[-1, -1, -1], [-1, -1, 0], [-1, 0, -1], [-1, 0, 0],\n",
    "                           [0, -1, -1], [0, -1, 0], [0, 0, -1],\n",
    "                           [0, 0, 0]]).to(in_positions.device)\n",
    "\n",
    "    out_pos = in_positions.repeat(1, filter.shape[0]).reshape(-1, 3)\n",
    "    print(\"Step1\",out_pos)\n",
    "    filter = filter.repeat(in_positions.shape[0], 1)\n",
    "\n",
    "    out_pos = out_pos + filter\n",
    "    print(\"Step2\",out_pos)\n",
    "    out_pos = out_pos[out_pos.min(1).values >= 0]\n",
    "    print(\"Step3\",out_pos)\n",
    "    out_pos = out_pos[(~((out_pos.long() % 2).bool()).any(1))]\n",
    "    print(\"Step4\",out_pos)\n",
    "    out_pos = torch.unique(out_pos, dim=0)\n",
    "    print(\"Step5\",out_pos)\n",
    "\n",
    "    return out_pos + 0.5"
   ]
  },
  {
   "cell_type": "code",
   "execution_count": 107,
   "id": "309fdd08",
   "metadata": {},
   "outputs": [],
   "source": [
    "filter = torch.Tensor([[-1, -1, -1], [-1, -1, 0], [-1, 0, -1], [-1, 0, 0],\n",
    "                           [0, -1, -1], [0, -1, 0], [0, 0, -1],\n",
    "                           [0, 0, 0]]).to(in_pos.device)"
   ]
  },
  {
   "cell_type": "code",
   "execution_count": 142,
   "id": "e4eed85d",
   "metadata": {
    "scrolled": true
   },
   "outputs": [
    {
     "data": {
      "text/plain": [
       "tensor([[0, 0, 0],\n",
       "        [0, 0, 0],\n",
       "        [0, 0, 0],\n",
       "        [0, 0, 0],\n",
       "        [0, 0, 0],\n",
       "        [0, 0, 0],\n",
       "        [0, 0, 0],\n",
       "        [0, 0, 0],\n",
       "        [0, 0, 0],\n",
       "        [0, 0, 0],\n",
       "        [0, 0, 0],\n",
       "        [0, 0, 0],\n",
       "        [0, 0, 0],\n",
       "        [0, 0, 0],\n",
       "        [0, 0, 0],\n",
       "        [0, 0, 0],\n",
       "        [0, 0, 0],\n",
       "        [0, 0, 0],\n",
       "        [0, 0, 0],\n",
       "        [0, 0, 0],\n",
       "        [0, 0, 0],\n",
       "        [0, 0, 0],\n",
       "        [0, 0, 0],\n",
       "        [0, 0, 0],\n",
       "        [0, 0, 0],\n",
       "        [0, 0, 0],\n",
       "        [0, 0, 0],\n",
       "        [0, 0, 0],\n",
       "        [0, 0, 0],\n",
       "        [0, 0, 0],\n",
       "        [0, 0, 0],\n",
       "        [0, 0, 0],\n",
       "        [0, 0, 0],\n",
       "        [0, 0, 0],\n",
       "        [0, 0, 0],\n",
       "        [0, 0, 0],\n",
       "        [0, 0, 0],\n",
       "        [0, 0, 0],\n",
       "        [0, 0, 0],\n",
       "        [0, 0, 0],\n",
       "        [0, 0, 0],\n",
       "        [0, 0, 0],\n",
       "        [0, 0, 0],\n",
       "        [0, 0, 0],\n",
       "        [0, 0, 0],\n",
       "        [0, 0, 0],\n",
       "        [0, 0, 0],\n",
       "        [0, 0, 0],\n",
       "        [0, 0, 0],\n",
       "        [0, 0, 0],\n",
       "        [0, 0, 0],\n",
       "        [0, 0, 0],\n",
       "        [0, 0, 0],\n",
       "        [0, 0, 0],\n",
       "        [0, 0, 0],\n",
       "        [0, 0, 0],\n",
       "        [0, 0, 0],\n",
       "        [0, 0, 0],\n",
       "        [0, 0, 0],\n",
       "        [0, 0, 0],\n",
       "        [0, 0, 0],\n",
       "        [0, 0, 0],\n",
       "        [0, 0, 0],\n",
       "        [0, 0, 0],\n",
       "        [0, 0, 0],\n",
       "        [0, 0, 0],\n",
       "        [0, 0, 0],\n",
       "        [0, 0, 0],\n",
       "        [0, 0, 0],\n",
       "        [0, 0, 0],\n",
       "        [0, 0, 0],\n",
       "        [0, 0, 0],\n",
       "        [0, 0, 0],\n",
       "        [0, 0, 0],\n",
       "        [0, 0, 0],\n",
       "        [0, 0, 0],\n",
       "        [0, 0, 0],\n",
       "        [0, 0, 0],\n",
       "        [0, 0, 0],\n",
       "        [0, 0, 0],\n",
       "        [0, 0, 0],\n",
       "        [0, 0, 0],\n",
       "        [0, 0, 0],\n",
       "        [0, 0, 0],\n",
       "        [0, 0, 0],\n",
       "        [0, 0, 0],\n",
       "        [0, 0, 0],\n",
       "        [0, 0, 0],\n",
       "        [0, 0, 0],\n",
       "        [0, 0, 0],\n",
       "        [0, 0, 0],\n",
       "        [0, 0, 0],\n",
       "        [0, 0, 0],\n",
       "        [0, 0, 0],\n",
       "        [0, 0, 0],\n",
       "        [0, 0, 0],\n",
       "        [0, 0, 0],\n",
       "        [0, 0, 0],\n",
       "        [0, 0, 0],\n",
       "        [0, 0, 0],\n",
       "        [0, 0, 0],\n",
       "        [0, 0, 0],\n",
       "        [0, 0, 0],\n",
       "        [0, 0, 0],\n",
       "        [0, 0, 0],\n",
       "        [0, 0, 0],\n",
       "        [0, 0, 0],\n",
       "        [0, 0, 0],\n",
       "        [0, 0, 0],\n",
       "        [0, 0, 0],\n",
       "        [0, 0, 0],\n",
       "        [0, 0, 0],\n",
       "        [0, 0, 0],\n",
       "        [0, 0, 0],\n",
       "        [0, 0, 0],\n",
       "        [0, 0, 0],\n",
       "        [0, 0, 0],\n",
       "        [0, 0, 0],\n",
       "        [0, 0, 0],\n",
       "        [0, 0, 0],\n",
       "        [0, 0, 0],\n",
       "        [0, 0, 0],\n",
       "        [0, 0, 0],\n",
       "        [0, 0, 0],\n",
       "        [0, 0, 0],\n",
       "        [0, 0, 0],\n",
       "        [0, 0, 0],\n",
       "        [0, 0, 0]])"
      ]
     },
     "execution_count": 142,
     "metadata": {},
     "output_type": "execute_result"
    }
   ],
   "source": [
    "out_pos = in_pos.long().repeat(1, filter.shape[0]).reshape(-1, 3)\n",
    "out_pos"
   ]
  },
  {
   "cell_type": "code",
   "execution_count": 143,
   "id": "1cf2ed72",
   "metadata": {},
   "outputs": [
    {
     "data": {
      "text/plain": [
       "tensor([[0.1000, 0.1000, 0.1000],\n",
       "        [0.1000, 0.1000, 0.1000],\n",
       "        [0.1000, 0.1000, 0.1000],\n",
       "        [0.1000, 0.1000, 0.1000],\n",
       "        [0.1000, 0.1000, 0.1000],\n",
       "        [0.1000, 0.1000, 0.1000],\n",
       "        [0.1000, 0.1000, 0.1000],\n",
       "        [0.1000, 0.1000, 0.1000],\n",
       "        [0.1000, 0.1000, 0.1000],\n",
       "        [0.1000, 0.1000, 0.1000],\n",
       "        [0.1000, 0.1000, 0.1000],\n",
       "        [0.1000, 0.1000, 0.1000],\n",
       "        [0.1000, 0.1000, 0.1000],\n",
       "        [0.1000, 0.1000, 0.1000],\n",
       "        [0.1000, 0.1000, 0.1000],\n",
       "        [0.1000, 0.1000, 0.1000],\n",
       "        [0.1000, 0.1000, 0.1000],\n",
       "        [0.1000, 0.1000, 0.1000],\n",
       "        [0.1000, 0.1000, 0.1000],\n",
       "        [0.1000, 0.1000, 0.1000],\n",
       "        [0.1000, 0.1000, 0.1000],\n",
       "        [0.1000, 0.1000, 0.1000],\n",
       "        [0.1000, 0.1000, 0.1000],\n",
       "        [0.1000, 0.1000, 0.1000],\n",
       "        [0.1000, 0.1000, 0.1000],\n",
       "        [0.1000, 0.1000, 0.1000],\n",
       "        [0.1000, 0.1000, 0.1000],\n",
       "        [0.1000, 0.1000, 0.1000],\n",
       "        [0.1000, 0.1000, 0.1000],\n",
       "        [0.1000, 0.1000, 0.1000],\n",
       "        [0.1000, 0.1000, 0.1000],\n",
       "        [0.1000, 0.1000, 0.1000],\n",
       "        [0.1000, 0.1000, 0.1000],\n",
       "        [0.1000, 0.1000, 0.1000],\n",
       "        [0.1000, 0.1000, 0.1000],\n",
       "        [0.1000, 0.1000, 0.1000],\n",
       "        [0.1000, 0.1000, 0.1000],\n",
       "        [0.1000, 0.1000, 0.1000],\n",
       "        [0.1000, 0.1000, 0.1000],\n",
       "        [0.1000, 0.1000, 0.1000],\n",
       "        [0.1000, 0.1000, 0.1000],\n",
       "        [0.1000, 0.1000, 0.1000],\n",
       "        [0.1000, 0.1000, 0.1000],\n",
       "        [0.1000, 0.1000, 0.1000],\n",
       "        [0.1000, 0.1000, 0.1000],\n",
       "        [0.1000, 0.1000, 0.1000],\n",
       "        [0.1000, 0.1000, 0.1000],\n",
       "        [0.1000, 0.1000, 0.1000],\n",
       "        [0.1000, 0.1000, 0.1000],\n",
       "        [0.1000, 0.1000, 0.1000],\n",
       "        [0.1000, 0.1000, 0.1000],\n",
       "        [0.1000, 0.1000, 0.1000],\n",
       "        [0.1000, 0.1000, 0.1000],\n",
       "        [0.1000, 0.1000, 0.1000],\n",
       "        [0.1000, 0.1000, 0.1000],\n",
       "        [0.1000, 0.1000, 0.1000],\n",
       "        [0.1000, 0.1000, 0.1000],\n",
       "        [0.1000, 0.1000, 0.1000],\n",
       "        [0.1000, 0.1000, 0.1000],\n",
       "        [0.1000, 0.1000, 0.1000],\n",
       "        [0.1000, 0.1000, 0.1000],\n",
       "        [0.1000, 0.1000, 0.1000],\n",
       "        [0.1000, 0.1000, 0.1000],\n",
       "        [0.1000, 0.1000, 0.1000],\n",
       "        [0.2000, 0.2000, 0.2000],\n",
       "        [0.2000, 0.2000, 0.2000],\n",
       "        [0.2000, 0.2000, 0.2000],\n",
       "        [0.2000, 0.2000, 0.2000],\n",
       "        [0.2000, 0.2000, 0.2000],\n",
       "        [0.2000, 0.2000, 0.2000],\n",
       "        [0.2000, 0.2000, 0.2000],\n",
       "        [0.2000, 0.2000, 0.2000],\n",
       "        [0.2000, 0.2000, 0.2000],\n",
       "        [0.2000, 0.2000, 0.2000],\n",
       "        [0.2000, 0.2000, 0.2000],\n",
       "        [0.2000, 0.2000, 0.2000],\n",
       "        [0.2000, 0.2000, 0.2000],\n",
       "        [0.2000, 0.2000, 0.2000],\n",
       "        [0.2000, 0.2000, 0.2000],\n",
       "        [0.2000, 0.2000, 0.2000],\n",
       "        [0.2000, 0.2000, 0.2000],\n",
       "        [0.2000, 0.2000, 0.2000],\n",
       "        [0.2000, 0.2000, 0.2000],\n",
       "        [0.2000, 0.2000, 0.2000],\n",
       "        [0.2000, 0.2000, 0.2000],\n",
       "        [0.2000, 0.2000, 0.2000],\n",
       "        [0.2000, 0.2000, 0.2000],\n",
       "        [0.2000, 0.2000, 0.2000],\n",
       "        [0.2000, 0.2000, 0.2000],\n",
       "        [0.2000, 0.2000, 0.2000],\n",
       "        [0.2000, 0.2000, 0.2000],\n",
       "        [0.2000, 0.2000, 0.2000],\n",
       "        [0.2000, 0.2000, 0.2000],\n",
       "        [0.2000, 0.2000, 0.2000],\n",
       "        [0.2000, 0.2000, 0.2000],\n",
       "        [0.2000, 0.2000, 0.2000],\n",
       "        [0.2000, 0.2000, 0.2000],\n",
       "        [0.2000, 0.2000, 0.2000],\n",
       "        [0.2000, 0.2000, 0.2000],\n",
       "        [0.2000, 0.2000, 0.2000],\n",
       "        [0.2000, 0.2000, 0.2000],\n",
       "        [0.2000, 0.2000, 0.2000],\n",
       "        [0.2000, 0.2000, 0.2000],\n",
       "        [0.2000, 0.2000, 0.2000],\n",
       "        [0.2000, 0.2000, 0.2000],\n",
       "        [0.2000, 0.2000, 0.2000],\n",
       "        [0.2000, 0.2000, 0.2000],\n",
       "        [0.2000, 0.2000, 0.2000],\n",
       "        [0.2000, 0.2000, 0.2000],\n",
       "        [0.2000, 0.2000, 0.2000],\n",
       "        [0.2000, 0.2000, 0.2000],\n",
       "        [0.2000, 0.2000, 0.2000],\n",
       "        [0.2000, 0.2000, 0.2000],\n",
       "        [0.2000, 0.2000, 0.2000],\n",
       "        [0.2000, 0.2000, 0.2000],\n",
       "        [0.2000, 0.2000, 0.2000],\n",
       "        [0.2000, 0.2000, 0.2000],\n",
       "        [0.2000, 0.2000, 0.2000],\n",
       "        [0.2000, 0.2000, 0.2000],\n",
       "        [0.2000, 0.2000, 0.2000],\n",
       "        [0.2000, 0.2000, 0.2000],\n",
       "        [0.2000, 0.2000, 0.2000],\n",
       "        [0.2000, 0.2000, 0.2000],\n",
       "        [0.2000, 0.2000, 0.2000],\n",
       "        [0.2000, 0.2000, 0.2000],\n",
       "        [0.2000, 0.2000, 0.2000],\n",
       "        [0.2000, 0.2000, 0.2000],\n",
       "        [0.2000, 0.2000, 0.2000]])"
      ]
     },
     "execution_count": 143,
     "metadata": {},
     "output_type": "execute_result"
    }
   ],
   "source": [
    "out_pos = in_pos.repeat(1,filter.shape[0]).reshape(-1,3)\n",
    "out_pos"
   ]
  },
  {
   "cell_type": "code",
   "execution_count": 133,
   "id": "45935a34",
   "metadata": {
    "scrolled": true
   },
   "outputs": [
    {
     "data": {
      "text/plain": [
       "tensor([[-1., -1., -1.],\n",
       "        [-1., -1.,  0.],\n",
       "        [-1.,  0., -1.],\n",
       "        [-1.,  0.,  0.],\n",
       "        [ 0., -1., -1.],\n",
       "        [ 0., -1.,  0.],\n",
       "        [ 0.,  0., -1.],\n",
       "        [ 0.,  0.,  0.],\n",
       "        [-1., -1., -1.],\n",
       "        [-1., -1.,  0.],\n",
       "        [-1.,  0., -1.],\n",
       "        [-1.,  0.,  0.],\n",
       "        [ 0., -1., -1.],\n",
       "        [ 0., -1.,  0.],\n",
       "        [ 0.,  0., -1.],\n",
       "        [ 0.,  0.,  0.],\n",
       "        [-1., -1., -1.],\n",
       "        [-1., -1.,  0.],\n",
       "        [-1.,  0., -1.],\n",
       "        [-1.,  0.,  0.],\n",
       "        [ 0., -1., -1.],\n",
       "        [ 0., -1.,  0.],\n",
       "        [ 0.,  0., -1.],\n",
       "        [ 0.,  0.,  0.],\n",
       "        [-1., -1., -1.],\n",
       "        [-1., -1.,  0.],\n",
       "        [-1.,  0., -1.],\n",
       "        [-1.,  0.,  0.],\n",
       "        [ 0., -1., -1.],\n",
       "        [ 0., -1.,  0.],\n",
       "        [ 0.,  0., -1.],\n",
       "        [ 0.,  0.,  0.],\n",
       "        [-1., -1., -1.],\n",
       "        [-1., -1.,  0.],\n",
       "        [-1.,  0., -1.],\n",
       "        [-1.,  0.,  0.],\n",
       "        [ 0., -1., -1.],\n",
       "        [ 0., -1.,  0.],\n",
       "        [ 0.,  0., -1.],\n",
       "        [ 0.,  0.,  0.],\n",
       "        [-1., -1., -1.],\n",
       "        [-1., -1.,  0.],\n",
       "        [-1.,  0., -1.],\n",
       "        [-1.,  0.,  0.],\n",
       "        [ 0., -1., -1.],\n",
       "        [ 0., -1.,  0.],\n",
       "        [ 0.,  0., -1.],\n",
       "        [ 0.,  0.,  0.],\n",
       "        [-1., -1., -1.],\n",
       "        [-1., -1.,  0.],\n",
       "        [-1.,  0., -1.],\n",
       "        [-1.,  0.,  0.],\n",
       "        [ 0., -1., -1.],\n",
       "        [ 0., -1.,  0.],\n",
       "        [ 0.,  0., -1.],\n",
       "        [ 0.,  0.,  0.],\n",
       "        [-1., -1., -1.],\n",
       "        [-1., -1.,  0.],\n",
       "        [-1.,  0., -1.],\n",
       "        [-1.,  0.,  0.],\n",
       "        [ 0., -1., -1.],\n",
       "        [ 0., -1.,  0.],\n",
       "        [ 0.,  0., -1.],\n",
       "        [ 0.,  0.,  0.]])"
      ]
     },
     "execution_count": 133,
     "metadata": {},
     "output_type": "execute_result"
    }
   ],
   "source": [
    "filter = filter.repeat(in_pos.shape[0], 1)\n",
    "filter"
   ]
  },
  {
   "cell_type": "code",
   "execution_count": 134,
   "id": "e0d9554f",
   "metadata": {
    "scrolled": true
   },
   "outputs": [
    {
     "data": {
      "text/plain": [
       "tensor([[-0.9000, -0.9000, -0.9000],\n",
       "        [-0.9000, -0.9000,  0.1000],\n",
       "        [-0.9000,  0.1000, -0.9000],\n",
       "        [-0.9000,  0.1000,  0.1000],\n",
       "        [ 0.1000, -0.9000, -0.9000],\n",
       "        [ 0.1000, -0.9000,  0.1000],\n",
       "        [ 0.1000,  0.1000, -0.9000],\n",
       "        [ 0.1000,  0.1000,  0.1000],\n",
       "        [-0.9000, -0.9000, -0.9000],\n",
       "        [-0.9000, -0.9000,  0.1000],\n",
       "        [-0.9000,  0.1000, -0.9000],\n",
       "        [-0.9000,  0.1000,  0.1000],\n",
       "        [ 0.1000, -0.9000, -0.9000],\n",
       "        [ 0.1000, -0.9000,  0.1000],\n",
       "        [ 0.1000,  0.1000, -0.9000],\n",
       "        [ 0.1000,  0.1000,  0.1000],\n",
       "        [-0.9000, -0.9000, -0.9000],\n",
       "        [-0.9000, -0.9000,  0.1000],\n",
       "        [-0.9000,  0.1000, -0.9000],\n",
       "        [-0.9000,  0.1000,  0.1000],\n",
       "        [ 0.1000, -0.9000, -0.9000],\n",
       "        [ 0.1000, -0.9000,  0.1000],\n",
       "        [ 0.1000,  0.1000, -0.9000],\n",
       "        [ 0.1000,  0.1000,  0.1000],\n",
       "        [-0.9000, -0.9000, -0.9000],\n",
       "        [-0.9000, -0.9000,  0.1000],\n",
       "        [-0.9000,  0.1000, -0.9000],\n",
       "        [-0.9000,  0.1000,  0.1000],\n",
       "        [ 0.1000, -0.9000, -0.9000],\n",
       "        [ 0.1000, -0.9000,  0.1000],\n",
       "        [ 0.1000,  0.1000, -0.9000],\n",
       "        [ 0.1000,  0.1000,  0.1000],\n",
       "        [-0.8000, -0.8000, -0.8000],\n",
       "        [-0.8000, -0.8000,  0.2000],\n",
       "        [-0.8000,  0.2000, -0.8000],\n",
       "        [-0.8000,  0.2000,  0.2000],\n",
       "        [ 0.2000, -0.8000, -0.8000],\n",
       "        [ 0.2000, -0.8000,  0.2000],\n",
       "        [ 0.2000,  0.2000, -0.8000],\n",
       "        [ 0.2000,  0.2000,  0.2000],\n",
       "        [-0.8000, -0.8000, -0.8000],\n",
       "        [-0.8000, -0.8000,  0.2000],\n",
       "        [-0.8000,  0.2000, -0.8000],\n",
       "        [-0.8000,  0.2000,  0.2000],\n",
       "        [ 0.2000, -0.8000, -0.8000],\n",
       "        [ 0.2000, -0.8000,  0.2000],\n",
       "        [ 0.2000,  0.2000, -0.8000],\n",
       "        [ 0.2000,  0.2000,  0.2000],\n",
       "        [-0.8000, -0.8000, -0.8000],\n",
       "        [-0.8000, -0.8000,  0.2000],\n",
       "        [-0.8000,  0.2000, -0.8000],\n",
       "        [-0.8000,  0.2000,  0.2000],\n",
       "        [ 0.2000, -0.8000, -0.8000],\n",
       "        [ 0.2000, -0.8000,  0.2000],\n",
       "        [ 0.2000,  0.2000, -0.8000],\n",
       "        [ 0.2000,  0.2000,  0.2000],\n",
       "        [-0.8000, -0.8000, -0.8000],\n",
       "        [-0.8000, -0.8000,  0.2000],\n",
       "        [-0.8000,  0.2000, -0.8000],\n",
       "        [-0.8000,  0.2000,  0.2000],\n",
       "        [ 0.2000, -0.8000, -0.8000],\n",
       "        [ 0.2000, -0.8000,  0.2000],\n",
       "        [ 0.2000,  0.2000, -0.8000],\n",
       "        [ 0.2000,  0.2000,  0.2000]])"
      ]
     },
     "execution_count": 134,
     "metadata": {},
     "output_type": "execute_result"
    }
   ],
   "source": [
    "out_pos = out_pos + filter\n",
    "out_pos"
   ]
  },
  {
   "cell_type": "code",
   "execution_count": 135,
   "id": "7a445c7c",
   "metadata": {},
   "outputs": [
    {
     "data": {
      "text/plain": [
       "tensor([[0.1000, 0.1000, 0.1000],\n",
       "        [0.1000, 0.1000, 0.1000],\n",
       "        [0.1000, 0.1000, 0.1000],\n",
       "        [0.1000, 0.1000, 0.1000],\n",
       "        [0.2000, 0.2000, 0.2000],\n",
       "        [0.2000, 0.2000, 0.2000],\n",
       "        [0.2000, 0.2000, 0.2000],\n",
       "        [0.2000, 0.2000, 0.2000]])"
      ]
     },
     "execution_count": 135,
     "metadata": {},
     "output_type": "execute_result"
    }
   ],
   "source": [
    "out_pos = out_pos[out_pos.min(1).values >= 0]\n",
    "out_pos"
   ]
  },
  {
   "cell_type": "code",
   "execution_count": 136,
   "id": "62103f47",
   "metadata": {},
   "outputs": [
    {
     "data": {
      "text/plain": [
       "tensor([[0.1000, 0.1000, 0.1000],\n",
       "        [0.1000, 0.1000, 0.1000],\n",
       "        [0.1000, 0.1000, 0.1000],\n",
       "        [0.1000, 0.1000, 0.1000],\n",
       "        [0.2000, 0.2000, 0.2000],\n",
       "        [0.2000, 0.2000, 0.2000],\n",
       "        [0.2000, 0.2000, 0.2000],\n",
       "        [0.2000, 0.2000, 0.2000]])"
      ]
     },
     "execution_count": 136,
     "metadata": {},
     "output_type": "execute_result"
    }
   ],
   "source": [
    "out_pos = out_pos[(~((out_pos.long() % 2).bool()).any(1))]\n",
    "out_pos"
   ]
  },
  {
   "cell_type": "code",
   "execution_count": 137,
   "id": "7da46ed7",
   "metadata": {},
   "outputs": [
    {
     "data": {
      "text/plain": [
       "tensor([[0.1000, 0.1000, 0.1000],\n",
       "        [0.2000, 0.2000, 0.2000]])"
      ]
     },
     "execution_count": 137,
     "metadata": {},
     "output_type": "execute_result"
    }
   ],
   "source": [
    "out_pos = torch.unique(out_pos, dim=0)\n",
    "out_pos"
   ]
  },
  {
   "cell_type": "code",
   "execution_count": 138,
   "id": "399055af",
   "metadata": {},
   "outputs": [
    {
     "data": {
      "text/plain": [
       "tensor([[0.6000, 0.6000, 0.6000],\n",
       "        [0.7000, 0.7000, 0.7000]])"
      ]
     },
     "execution_count": 138,
     "metadata": {},
     "output_type": "execute_result"
    }
   ],
   "source": [
    "out_pos + 0.5"
   ]
  },
  {
   "cell_type": "code",
   "execution_count": 145,
   "id": "2a2c0d91",
   "metadata": {},
   "outputs": [
    {
     "name": "stdout",
     "output_type": "stream",
     "text": [
      "Step1 tensor([[0.1000, 0.1000, 0.1000],\n",
      "        [0.1000, 0.1000, 0.1000],\n",
      "        [0.1000, 0.1000, 0.1000],\n",
      "        [0.1000, 0.1000, 0.1000],\n",
      "        [0.1000, 0.1000, 0.1000],\n",
      "        [0.1000, 0.1000, 0.1000],\n",
      "        [0.1000, 0.1000, 0.1000],\n",
      "        [0.1000, 0.1000, 0.1000],\n",
      "        [0.2000, 0.2000, 0.2000],\n",
      "        [0.2000, 0.2000, 0.2000],\n",
      "        [0.2000, 0.2000, 0.2000],\n",
      "        [0.2000, 0.2000, 0.2000],\n",
      "        [0.2000, 0.2000, 0.2000],\n",
      "        [0.2000, 0.2000, 0.2000],\n",
      "        [0.2000, 0.2000, 0.2000],\n",
      "        [0.2000, 0.2000, 0.2000]])\n",
      "Step2 tensor([[-0.9000, -0.9000, -0.9000],\n",
      "        [-0.9000, -0.9000,  0.1000],\n",
      "        [-0.9000,  0.1000, -0.9000],\n",
      "        [-0.9000,  0.1000,  0.1000],\n",
      "        [ 0.1000, -0.9000, -0.9000],\n",
      "        [ 0.1000, -0.9000,  0.1000],\n",
      "        [ 0.1000,  0.1000, -0.9000],\n",
      "        [ 0.1000,  0.1000,  0.1000],\n",
      "        [-0.8000, -0.8000, -0.8000],\n",
      "        [-0.8000, -0.8000,  0.2000],\n",
      "        [-0.8000,  0.2000, -0.8000],\n",
      "        [-0.8000,  0.2000,  0.2000],\n",
      "        [ 0.2000, -0.8000, -0.8000],\n",
      "        [ 0.2000, -0.8000,  0.2000],\n",
      "        [ 0.2000,  0.2000, -0.8000],\n",
      "        [ 0.2000,  0.2000,  0.2000]])\n",
      "Step3 tensor([[0.1000, 0.1000, 0.1000],\n",
      "        [0.2000, 0.2000, 0.2000]])\n",
      "Step4 tensor([[0.1000, 0.1000, 0.1000],\n",
      "        [0.2000, 0.2000, 0.2000]])\n",
      "Step5 tensor([[0.1000, 0.1000, 0.1000],\n",
      "        [0.2000, 0.2000, 0.2000]])\n"
     ]
    },
    {
     "data": {
      "text/plain": [
       "tensor([[0.6000, 0.6000, 0.6000],\n",
       "        [0.7000, 0.7000, 0.7000]])"
      ]
     },
     "execution_count": 145,
     "metadata": {},
     "output_type": "execute_result"
    }
   ],
   "source": [
    "calculate_grid(in_pos)"
   ]
  },
  {
   "cell_type": "code",
   "execution_count": 147,
   "id": "ae391f59",
   "metadata": {},
   "outputs": [
    {
     "data": {
      "text/plain": [
       "tensor([[0, 0, 0],\n",
       "        [0, 0, 0]])"
      ]
     },
     "execution_count": 147,
     "metadata": {},
     "output_type": "execute_result"
    }
   ],
   "source": [
    "in_pos.long()"
   ]
  },
  {
   "cell_type": "code",
   "execution_count": null,
   "id": "87fe3f61",
   "metadata": {},
   "outputs": [],
   "source": []
  },
  {
   "cell_type": "code",
   "execution_count": 93,
   "id": "810fa78e",
   "metadata": {},
   "outputs": [],
   "source": [
    "out_pos = calculate_grid(coords)"
   ]
  },
  {
   "cell_type": "code",
   "execution_count": 95,
   "id": "ad25f57f",
   "metadata": {},
   "outputs": [
    {
     "data": {
      "text/plain": [
       "torch.Size([0])"
      ]
     },
     "execution_count": 95,
     "metadata": {},
     "output_type": "execute_result"
    }
   ],
   "source": [
    "out_pos.shape"
   ]
  },
  {
   "cell_type": "code",
   "execution_count": null,
   "id": "eb35cd51",
   "metadata": {},
   "outputs": [],
   "source": []
  },
  {
   "cell_type": "code",
   "execution_count": 128,
   "id": "5d32553a",
   "metadata": {},
   "outputs": [
    {
     "data": {
      "text/plain": [
       "(tensor([[0.1000, 0.1000, 0.1000],\n",
       "         [0.2000, 0.2000, 0.2000]]),\n",
       " torch.Size([2, 3]))"
      ]
     },
     "execution_count": 128,
     "metadata": {},
     "output_type": "execute_result"
    }
   ],
   "source": [
    "in_pos = torch.tensor([[0.1, 0.1, 0.1], [0.2, 0.2, 0.2]])\n",
    "in_pos, in_pos.shape"
   ]
  },
  {
   "cell_type": "code",
   "execution_count": 98,
   "id": "c2ffd229",
   "metadata": {},
   "outputs": [
    {
     "data": {
      "text/plain": [
       "tensor([[0.5000, 0.5000, 0.5000]])"
      ]
     },
     "execution_count": 98,
     "metadata": {},
     "output_type": "execute_result"
    }
   ],
   "source": [
    "out_pos = calculate_grid(in_pos)\n",
    "out_pos"
   ]
  },
  {
   "cell_type": "code",
   "execution_count": 101,
   "id": "31782552",
   "metadata": {},
   "outputs": [
    {
     "data": {
      "text/plain": [
       "tensor([[0.4605, 0.0467, 0.8775],\n",
       "        [0.7934, 0.2202, 0.3973]])"
      ]
     },
     "execution_count": 101,
     "metadata": {},
     "output_type": "execute_result"
    }
   ],
   "source": [
    "feats = torch.rand(2,3)\n",
    "feats"
   ]
  },
  {
   "cell_type": "code",
   "execution_count": 102,
   "id": "29df5d2a",
   "metadata": {},
   "outputs": [],
   "source": [
    "out = sparse_conv(feats, in_pos, out_pos, voxel_size=0.02)"
   ]
  },
  {
   "cell_type": "code",
   "execution_count": 104,
   "id": "618e640d",
   "metadata": {},
   "outputs": [
    {
     "data": {
      "text/plain": [
       "torch.Size([1, 8])"
      ]
     },
     "execution_count": 104,
     "metadata": {},
     "output_type": "execute_result"
    }
   ],
   "source": [
    "out.shape"
   ]
  },
  {
   "cell_type": "code",
   "execution_count": null,
   "id": "d17cdc3b",
   "metadata": {},
   "outputs": [],
   "source": []
  },
  {
   "cell_type": "code",
   "execution_count": null,
   "id": "19a9370b",
   "metadata": {},
   "outputs": [],
   "source": [
    "# Points are in WHD order\n",
    "with torch.no_grad():\n",
    "    inp_pos = torch.tensor(np.array([[1, 2, 0], [0, 1, 0]], dtype=np.float32))\n",
    "    out = sparse_conv(features, inp_pos, inp_pos, voxel_size=1.0)\n",
    "    print(out)\n",
    "\n",
    "    inp_pos = torch.tensor(np.array([[1, 2.53, 0], [0, 1, 0]], dtype=np.float32))\n",
    "    out = sparse_conv(features, inp_pos, inp_pos, voxel_size=1.0)\n",
    "    print(out)\n",
    "\n",
    "    inp_pos = torch.tensor(np.array([[1, 2.531, 0], [0, 1, 0]], dtype=np.float32))\n",
    "    out = sparse_conv(features, inp_pos, inp_pos, voxel_size=1.0)\n",
    "    print(out)"
   ]
  },
  {
   "cell_type": "code",
   "execution_count": null,
   "id": "bfbb6871",
   "metadata": {},
   "outputs": [],
   "source": []
  },
  {
   "cell_type": "code",
   "execution_count": null,
   "id": "5fb0f14a",
   "metadata": {},
   "outputs": [],
   "source": []
  },
  {
   "cell_type": "code",
   "execution_count": 162,
   "id": "0eb55e4a",
   "metadata": {},
   "outputs": [],
   "source": [
    "positions = {f\"conv{i}\":{} for i in range(1,4)}\n",
    "for i in range(1,4):\n",
    "    positions[f\"conv{i}\"][\"in\"] = coords\n",
    "    positions[f\"conv{i}\"][\"out\"] = coords"
   ]
  },
  {
   "cell_type": "code",
   "execution_count": 163,
   "id": "e897af88",
   "metadata": {},
   "outputs": [
    {
     "data": {
      "text/plain": [
       "torch.Size([111620, 3])"
      ]
     },
     "execution_count": 163,
     "metadata": {},
     "output_type": "execute_result"
    }
   ],
   "source": [
    "positions[\"conv1\"][\"in\"].shape"
   ]
  },
  {
   "cell_type": "code",
   "execution_count": 164,
   "id": "166c1110",
   "metadata": {},
   "outputs": [],
   "source": [
    "from collections import OrderedDict"
   ]
  },
  {
   "cell_type": "code",
   "execution_count": 165,
   "id": "9d4804da",
   "metadata": {},
   "outputs": [],
   "source": [
    "import torch\n",
    "import torch.nn as nn\n",
    "import torch.optim as optim"
   ]
  },
  {
   "cell_type": "code",
   "execution_count": 166,
   "id": "08b0b05c",
   "metadata": {},
   "outputs": [],
   "source": [
    "from open3d.ml.torch.layers import SparseConv"
   ]
  },
  {
   "cell_type": "code",
   "execution_count": 167,
   "id": "55d44a41",
   "metadata": {},
   "outputs": [],
   "source": [
    "class Encoder(nn.Module):\n",
    "    def __init__(self, positions:dict):\n",
    "        super(Encoder, self).__init__()\n",
    "        self.conv1 = SparseConv(3, 6, [3,3,3], nn.ReLU(), True, normalize=True)\n",
    "        self.conv2 = SparseConv(6, 12, [4,4,4], nn.ReLU(), True, normalize=True)\n",
    "        self.conv3 = SparseConv(12, 32, [3,3,3], nn.ReLU(), True, normalize=True)\n",
    "        self.pos = positions\n",
    "    \n",
    "    def forward(self, x):\n",
    "        x = self.conv1(x, self.pos[\"conv1\"][\"in\"], self.pos[\"conv1\"][\"out\"], voxel_size=0.02)\n",
    "        x = self.conv2(x, self.pos[\"conv2\"][\"in\"], self.pos[\"conv2\"][\"out\"], voxel_size=0.04)\n",
    "        x = self.conv3(x, self.pos[\"conv3\"][\"in\"], self.pos[\"conv3\"][\"out\"], voxel_size=0.08)\n",
    "        return x"
   ]
  },
  {
   "cell_type": "code",
   "execution_count": 168,
   "id": "774a8318",
   "metadata": {},
   "outputs": [],
   "source": [
    "class Decoder(nn.Module):\n",
    "    def __init__(self, positions:dict):\n",
    "        super(Decoder, self).__init__()\n",
    "        self.conv1 = SparseConv(32, 12, [3,3,3], nn.ReLU(), True, normalize=True)\n",
    "        self.conv2 = SparseConv(12, 6, [4,4,4], nn.ReLU(), True, normalize=True)\n",
    "        self.conv3 = SparseConv(6, 13, [3,3,3], None, True, normalize=True)\n",
    "        self.pos = positions\n",
    "    \n",
    "    def forward(self, x):\n",
    "        x = self.conv1(x, self.pos[\"conv1\"][\"out\"], self.pos[\"conv1\"][\"in\"], voxel_size=0.08)\n",
    "        x = self.conv2(x, self.pos[\"conv2\"][\"out\"], self.pos[\"conv2\"][\"in\"], voxel_size=0.04)\n",
    "        x = self.conv3(x, self.pos[\"conv3\"][\"out\"], self.pos[\"conv3\"][\"in\"], voxel_size=0.02)\n",
    "        return x"
   ]
  },
  {
   "cell_type": "code",
   "execution_count": 169,
   "id": "a5929f78",
   "metadata": {},
   "outputs": [],
   "source": [
    "enc = Encoder(positions)\n",
    "dec = Decoder(positions)"
   ]
  },
  {
   "cell_type": "code",
   "execution_count": 199,
   "id": "58359874",
   "metadata": {},
   "outputs": [
    {
     "data": {
      "text/plain": [
       "Sequential(\n",
       "  (encoder): Encoder(\n",
       "    (conv1): SparseConv(\n",
       "      (activation): ReLU()\n",
       "      (fixed_radius_search): FixedRadiusSearch()\n",
       "    )\n",
       "    (conv2): SparseConv(\n",
       "      (activation): ReLU()\n",
       "      (fixed_radius_search): FixedRadiusSearch()\n",
       "    )\n",
       "    (conv3): SparseConv(\n",
       "      (activation): ReLU()\n",
       "      (fixed_radius_search): FixedRadiusSearch()\n",
       "    )\n",
       "  )\n",
       "  (decoder): Decoder(\n",
       "    (conv1): SparseConv(\n",
       "      (activation): ReLU()\n",
       "      (fixed_radius_search): FixedRadiusSearch()\n",
       "    )\n",
       "    (conv2): SparseConv(\n",
       "      (activation): ReLU()\n",
       "      (fixed_radius_search): FixedRadiusSearch()\n",
       "    )\n",
       "    (conv3): SparseConv(\n",
       "      (fixed_radius_search): FixedRadiusSearch()\n",
       "    )\n",
       "  )\n",
       ")"
      ]
     },
     "execution_count": 199,
     "metadata": {},
     "output_type": "execute_result"
    }
   ],
   "source": [
    "model = nn.Sequential(OrderedDict([\n",
    "            ('encoder', Encoder(positions)),\n",
    "            ('decoder', Decoder(positions))\n",
    "]))\n",
    "model"
   ]
  },
  {
   "cell_type": "code",
   "execution_count": 197,
   "id": "9e6a53c0",
   "metadata": {},
   "outputs": [],
   "source": [
    "optimizer = optim.Adam(model.parameters(), lr=0.01)\n",
    "criterion = nn.CrossEntropyLoss()"
   ]
  },
  {
   "cell_type": "code",
   "execution_count": 191,
   "id": "3834dd27",
   "metadata": {
    "scrolled": true
   },
   "outputs": [],
   "source": [
    "import open3d"
   ]
  },
  {
   "cell_type": "code",
   "execution_count": 190,
   "id": "211a665e",
   "metadata": {},
   "outputs": [],
   "source": [
    "metrics = open3d.ml.torch.modules.metrics.SemSegMetric()"
   ]
  },
  {
   "cell_type": "code",
   "execution_count": 198,
   "id": "91419cd4",
   "metadata": {},
   "outputs": [
    {
     "name": "stdout",
     "output_type": "stream",
     "text": [
      "Epoch[1, Loss: 2.507258892059326]\n",
      "Epoch[2, Loss: 2.4917166233062744]\n",
      "Epoch[3, Loss: 2.4736673831939697]\n",
      "Epoch[4, Loss: 2.4523544311523438]\n",
      "Epoch[5, Loss: 2.426217555999756]\n",
      "Epoch[6, Loss: 2.395934581756592]\n",
      "Epoch[7, Loss: 2.361004114151001]\n",
      "Epoch[8, Loss: 2.3206405639648438]\n",
      "Epoch[9, Loss: 2.2770323753356934]\n",
      "Epoch[10, Loss: 2.2320492267608643]\n",
      "Epoch[11, Loss: 2.187425374984741]\n",
      "Epoch[12, Loss: 2.1448397636413574]\n",
      "Epoch[13, Loss: 2.1054232120513916]\n",
      "Epoch[14, Loss: 2.071425676345825]\n",
      "Epoch[15, Loss: 2.045344114303589]\n",
      "Epoch[16, Loss: 2.0275208950042725]\n",
      "Epoch[17, Loss: 2.009279251098633]\n",
      "Epoch[18, Loss: 1.9827547073364258]\n",
      "Epoch[19, Loss: 1.9527348279953003]\n",
      "Epoch[20, Loss: 1.9270086288452148]\n",
      "Epoch[21, Loss: 1.9090466499328613]\n",
      "Epoch[22, Loss: 1.89754056930542]\n",
      "Epoch[23, Loss: 1.8881523609161377]\n",
      "Epoch[24, Loss: 1.8772426843643188]\n",
      "Epoch[25, Loss: 1.863304615020752]\n",
      "Epoch[26, Loss: 1.8462973833084106]\n",
      "Epoch[27, Loss: 1.8272929191589355]\n",
      "Epoch[28, Loss: 1.8078416585922241]\n",
      "Epoch[29, Loss: 1.7896134853363037]\n",
      "Epoch[30, Loss: 1.7735522985458374]\n",
      "Epoch[31, Loss: 1.758762001991272]\n",
      "Epoch[32, Loss: 1.7436699867248535]\n",
      "Epoch[33, Loss: 1.72828209400177]\n"
     ]
    },
    {
     "ename": "KeyboardInterrupt",
     "evalue": "",
     "output_type": "error",
     "traceback": [
      "\u001b[0;31m---------------------------------------------------------------------------\u001b[0m",
      "\u001b[0;31mKeyboardInterrupt\u001b[0m                         Traceback (most recent call last)",
      "\u001b[0;32m<ipython-input-198-32b692de551a>\u001b[0m in \u001b[0;36m<module>\u001b[0;34m\u001b[0m\n\u001b[1;32m     11\u001b[0m     \u001b[0mprint\u001b[0m\u001b[0;34m(\u001b[0m\u001b[0;34mf\"Epoch[{epoch+1}, Loss: {loss.item()}]\"\u001b[0m\u001b[0;34m)\u001b[0m\u001b[0;34m\u001b[0m\u001b[0;34m\u001b[0m\u001b[0m\n\u001b[1;32m     12\u001b[0m \u001b[0;34m\u001b[0m\u001b[0m\n\u001b[0;32m---> 13\u001b[0;31m     \u001b[0mloss\u001b[0m\u001b[0;34m.\u001b[0m\u001b[0mbackward\u001b[0m\u001b[0;34m(\u001b[0m\u001b[0;34m)\u001b[0m\u001b[0;34m\u001b[0m\u001b[0;34m\u001b[0m\u001b[0m\n\u001b[0m\u001b[1;32m     14\u001b[0m     \u001b[0moptimizer\u001b[0m\u001b[0;34m.\u001b[0m\u001b[0mstep\u001b[0m\u001b[0;34m(\u001b[0m\u001b[0;34m)\u001b[0m\u001b[0;34m\u001b[0m\u001b[0;34m\u001b[0m\u001b[0m\n",
      "\u001b[0;32m~/miniconda3/envs/temp/lib/python3.6/site-packages/torch/tensor.py\u001b[0m in \u001b[0;36mbackward\u001b[0;34m(self, gradient, retain_graph, create_graph, inputs)\u001b[0m\n\u001b[1;32m    243\u001b[0m                 \u001b[0mcreate_graph\u001b[0m\u001b[0;34m=\u001b[0m\u001b[0mcreate_graph\u001b[0m\u001b[0;34m,\u001b[0m\u001b[0;34m\u001b[0m\u001b[0;34m\u001b[0m\u001b[0m\n\u001b[1;32m    244\u001b[0m                 inputs=inputs)\n\u001b[0;32m--> 245\u001b[0;31m         \u001b[0mtorch\u001b[0m\u001b[0;34m.\u001b[0m\u001b[0mautograd\u001b[0m\u001b[0;34m.\u001b[0m\u001b[0mbackward\u001b[0m\u001b[0;34m(\u001b[0m\u001b[0mself\u001b[0m\u001b[0;34m,\u001b[0m \u001b[0mgradient\u001b[0m\u001b[0;34m,\u001b[0m \u001b[0mretain_graph\u001b[0m\u001b[0;34m,\u001b[0m \u001b[0mcreate_graph\u001b[0m\u001b[0;34m,\u001b[0m \u001b[0minputs\u001b[0m\u001b[0;34m=\u001b[0m\u001b[0minputs\u001b[0m\u001b[0;34m)\u001b[0m\u001b[0;34m\u001b[0m\u001b[0;34m\u001b[0m\u001b[0m\n\u001b[0m\u001b[1;32m    246\u001b[0m \u001b[0;34m\u001b[0m\u001b[0m\n\u001b[1;32m    247\u001b[0m     \u001b[0;32mdef\u001b[0m \u001b[0mregister_hook\u001b[0m\u001b[0;34m(\u001b[0m\u001b[0mself\u001b[0m\u001b[0;34m,\u001b[0m \u001b[0mhook\u001b[0m\u001b[0;34m)\u001b[0m\u001b[0;34m:\u001b[0m\u001b[0;34m\u001b[0m\u001b[0;34m\u001b[0m\u001b[0m\n",
      "\u001b[0;32m~/miniconda3/envs/temp/lib/python3.6/site-packages/torch/autograd/__init__.py\u001b[0m in \u001b[0;36mbackward\u001b[0;34m(tensors, grad_tensors, retain_graph, create_graph, grad_variables, inputs)\u001b[0m\n\u001b[1;32m    145\u001b[0m     Variable._execution_engine.run_backward(\n\u001b[1;32m    146\u001b[0m         \u001b[0mtensors\u001b[0m\u001b[0;34m,\u001b[0m \u001b[0mgrad_tensors_\u001b[0m\u001b[0;34m,\u001b[0m \u001b[0mretain_graph\u001b[0m\u001b[0;34m,\u001b[0m \u001b[0mcreate_graph\u001b[0m\u001b[0;34m,\u001b[0m \u001b[0minputs\u001b[0m\u001b[0;34m,\u001b[0m\u001b[0;34m\u001b[0m\u001b[0;34m\u001b[0m\u001b[0m\n\u001b[0;32m--> 147\u001b[0;31m         allow_unreachable=True, accumulate_grad=True)  # allow_unreachable flag\n\u001b[0m\u001b[1;32m    148\u001b[0m \u001b[0;34m\u001b[0m\u001b[0m\n\u001b[1;32m    149\u001b[0m \u001b[0;34m\u001b[0m\u001b[0m\n",
      "\u001b[0;31mKeyboardInterrupt\u001b[0m: "
     ]
    }
   ],
   "source": [
    "epoch_loss = []\n",
    "EPOCHS = 100\n",
    "for epoch in range(EPOCHS):\n",
    "    torch.cuda.empty_cache()\n",
    "    optimizer.zero_grad()\n",
    "\n",
    "    preds = model(features)\n",
    "    loss = criterion(preds, labels.squeeze().long())\n",
    "    epoch_loss.append(loss.item())\n",
    "#     metrics.update(preds.unsqueeze(2), labels)\n",
    "\n",
    "    acc\n",
    "    print(f\"Epoch[{epoch+1}, Loss: {loss.item()}]\")\n",
    "\n",
    "    loss.backward()\n",
    "    optimizer.step()"
   ]
  },
  {
   "cell_type": "code",
   "execution_count": 194,
   "id": "6b868378",
   "metadata": {},
   "outputs": [
    {
     "data": {
      "text/plain": [
       "torch.Size([111620, 13, 1])"
      ]
     },
     "execution_count": 194,
     "metadata": {},
     "output_type": "execute_result"
    }
   ],
   "source": [
    "preds.unsqueeze(2).shape"
   ]
  },
  {
   "cell_type": "code",
   "execution_count": 195,
   "id": "6cb62b1b",
   "metadata": {},
   "outputs": [
    {
     "data": {
      "text/plain": [
       "torch.Size([111620, 1])"
      ]
     },
     "execution_count": 195,
     "metadata": {},
     "output_type": "execute_result"
    }
   ],
   "source": [
    "labels.shape"
   ]
  },
  {
   "cell_type": "code",
   "execution_count": 155,
   "id": "d45321fd",
   "metadata": {},
   "outputs": [
    {
     "data": {
      "text/plain": [
       "torch.Size([111620, 3])"
      ]
     },
     "execution_count": 155,
     "metadata": {},
     "output_type": "execute_result"
    }
   ],
   "source": [
    "features.shape"
   ]
  },
  {
   "cell_type": "code",
   "execution_count": null,
   "id": "7c999aaf",
   "metadata": {},
   "outputs": [],
   "source": []
  }
 ],
 "metadata": {
  "interpreter": {
   "hash": "1a5a03f3e29693f5b216a88cace33b375eb9ecd7dd6a0202bfe979788105aada"
  },
  "kernelspec": {
   "display_name": "temp",
   "language": "python",
   "name": "temp"
  },
  "language_info": {
   "codemirror_mode": {
    "name": "ipython",
    "version": 3
   },
   "file_extension": ".py",
   "mimetype": "text/x-python",
   "name": "python",
   "nbconvert_exporter": "python",
   "pygments_lexer": "ipython3",
   "version": "3.6.13"
  }
 },
 "nbformat": 4,
 "nbformat_minor": 5
}
